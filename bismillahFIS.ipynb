{
  "nbformat": 4,
  "nbformat_minor": 0,
  "metadata": {
    "colab": {
      "provenance": [],
      "collapsed_sections": [],
      "authorship_tag": "ABX9TyP6xx50qi8lr/9v7e6BN0A4",
      "include_colab_link": true
    },
    "kernelspec": {
      "name": "python3",
      "display_name": "Python 3"
    },
    "language_info": {
      "name": "python"
    }
  },
  "cells": [
    {
      "cell_type": "markdown",
      "metadata": {
        "id": "view-in-github",
        "colab_type": "text"
      },
      "source": [
        "<a href=\"https://colab.research.google.com/github/imambritish/aplikasi-Fuzzy-Inference-System/blob/main/bismillahFIS.ipynb\" target=\"_parent\"><img src=\"https://colab.research.google.com/assets/colab-badge.svg\" alt=\"Open In Colab\"/></a>"
      ]
    },
    {
      "cell_type": "markdown",
      "source": [
        "### PENERAPAN FUZZY INFERENCE SYSTEM METODE MAMDANI UNTUK PENENTUAN BESARAN PERSENTASE BEASISWA"
      ],
      "metadata": {
        "id": "bfEKuwnOH97x"
      }
    },
    {
      "cell_type": "markdown",
      "source": [
        "**contoh kasus**\n",
        "\n",
        "penerapan algoritma Fuzzy Inference System dengan metode MAMDANI untuk penentuan besaran persentase beasiswa mahasiswa baru, sehingga beasiswa \n",
        "diterima oleh calon mahasiswa tersebut tepat dan objektif."
      ],
      "metadata": {
        "id": "lAj6GYkQK_x-"
      }
    },
    {
      "cell_type": "markdown",
      "source": [
        "**variabel**\n",
        "\n",
        "variabel input : Nilai Test Tertulis, Hasil dari Wawancara, Nilai Raport, Penghasilan Orang Tua, Rekening Listrik sebulan terakhir\n",
        "\n",
        "variabel output : Besarnya Beasiswa"
      ],
      "metadata": {
        "id": "WRjMRRxILpho"
      }
    },
    {
      "cell_type": "markdown",
      "source": [
        "**himpunan fuzzy**\n",
        "\n",
        "himpunan nilai test tulis : RENDAH, TINGGI\n",
        "\n",
        "himpunan rekening penggunaan listrik : IRIT, BOROS  \n",
        "\n",
        "himpunan besaran penghasilan orangtua : KECIL, BESAR\n",
        "\n",
        "himpunan besar beasiswa : RENDAH, SEDANG, TINGGI\n"
      ],
      "metadata": {
        "id": "nyPHMqXjPqgY"
      }
    },
    {
      "cell_type": "markdown",
      "source": [
        "**semesta pembicaraan**\n",
        "\n",
        "semesta nilai test = [0, 100]\n",
        "\n",
        "semesta penggunaan listrik(kWh) = [0 , +∞]\n",
        "\n",
        "semesta penghasilan(rupiah) = [0 , +∞ ]\n",
        "\n",
        "semesta besar beasiswa(persen) : [0 100]"
      ],
      "metadata": {
        "id": "CLePTkzzhVWB"
      }
    },
    {
      "cell_type": "markdown",
      "source": [
        "**domain**\n",
        "\n",
        "domain nilai test tulis : RENDAH = [40, 79] , TINGGI = [70, 90]\n",
        "\n",
        "domain penggunaan listrik : IRIT [62 128], BOROS [108 180]\n",
        "\n",
        "domain penghasilan : KECIL [4000000, 7000000], BESAR = [5500000, 10000000]\n",
        "\n",
        "domain besar beasiswa(persen) : RENDAH <= 45,  30 <= SEDANG <= 70, TINGGI >= 60 "
      ],
      "metadata": {
        "id": "8I2zIwoCiRxM"
      }
    },
    {
      "cell_type": "markdown",
      "source": [
        "besaran golongan beasiswa mana yang akan didapat jika murid memiliki test tulis dengan nilai sekian, penghasilan orang tua dengan jumlah sekian, dan penggunaan listrik sekian kWh. "
      ],
      "metadata": {
        "id": "ywnpXq1Rpe4V"
      }
    },
    {
      "cell_type": "markdown",
      "source": [
        "## FUZZIFIKASI"
      ],
      "metadata": {
        "id": "ysxywVm-qQLn"
      }
    },
    {
      "cell_type": "code",
      "execution_count": 274,
      "metadata": {
        "id": "h_iSaw67H5CM"
      },
      "outputs": [],
      "source": [
        "import matplotlib.pyplot as plt\n",
        "import numpy as np\n",
        "import math\n",
        "from decimal import Decimal"
      ]
    },
    {
      "cell_type": "markdown",
      "source": [
        "KURVA UNTUK VARIABEL NILAI TEST TULIS"
      ],
      "metadata": {
        "id": "Xvol6g1OvzTT"
      }
    },
    {
      "cell_type": "code",
      "source": [
        "def inputNilai():\n",
        "  global x_nilai\n",
        "\n",
        "  print(\"Masukkan nilai test tulis dari siswa : \")\n",
        "  x_nilai = float(input())"
      ],
      "metadata": {
        "id": "2ofuHC09mO1i"
      },
      "execution_count": 202,
      "outputs": []
    },
    {
      "cell_type": "code",
      "source": [
        "inputNilai()"
      ],
      "metadata": {
        "colab": {
          "base_uri": "https://localhost:8080/"
        },
        "id": "IGhJfXIimbhS",
        "outputId": "853d4a17-1536-48ab-b75f-1936541b6ddb"
      },
      "execution_count": 203,
      "outputs": [
        {
          "name": "stdout",
          "output_type": "stream",
          "text": [
            "Masukkan nilai test tulis dari siswa : \n",
            "55.0\n"
          ]
        }
      ]
    },
    {
      "cell_type": "code",
      "source": [
        "def domainnilaiRendah():\n",
        "  global x_nilai\n",
        "  global a_nilaiRendah\n",
        "  global c_nilaiRendah \n",
        "  global b_nilaiRendah\n",
        "  global sbX_nilaiRendah\n",
        "  global sbY_nilaiRendah\n",
        "\n",
        "  print(\"Nilai test tulis dari siswa yang sudah di inputkan : {nilaiTes}\".format(nilaiTes = x_nilai))\n",
        "\n",
        "  print(\"Domain variabel fuzzy nilai test tulis di himpunan nilai test RENDAH (batas bawah) : \")\n",
        "  a_nilaiRendah = float(input())\n",
        "  print(\"Domain variabel fuzzy nilai test tulis di himpunan nilai test RENDAH (batas atas) : \")\n",
        "  c_nilaiRendah = float(input())\n",
        "  b_nilaiRendah = (a_nilaiRendah + c_nilaiRendah) / 2\n",
        "\n",
        "  sbX_nilaiRendah = []\n",
        "  sbY_nilaiRendah = []\n",
        "\n",
        "  for i in np.arange(a_nilaiRendah,c_nilaiRendah + 1, 0.1):\n",
        "\n",
        "    sbX_nilaiRendah.append(i)\n",
        "    if  i < (b_nilaiRendah) and i > a_nilaiRendah:\n",
        "      oordinat = 1 - 2* pow(((i - a_nilaiRendah) / (c_nilaiRendah - a_nilaiRendah)),2)\n",
        "      sbY_nilaiRendah.append(oordinat)\n",
        "\n",
        "    elif i > (b_nilaiRendah) and i < c_nilaiRendah: \n",
        "      oordinat = 2* pow(((c_nilaiRendah-i)/(c_nilaiRendah-a_nilaiRendah) ),2)\n",
        "      sbY_nilaiRendah.append(oordinat)\n",
        "\n",
        "    elif i == (b_nilaiRendah):\n",
        "      oordinat = 0.5\n",
        "      sbY_nilaiRendah.append(oordinat)\n",
        "\n",
        "    elif i >= c_nilaiRendah:\n",
        "      oordinat = 0\n",
        "      sbY_nilaiRendah.append(oordinat)\n",
        "\n",
        "    elif i <= a_nilaiRendah:\n",
        "      oordinat = 1\n",
        "      sbY_nilaiRendah.append(oordinat)\n",
        "      \n",
        "    i += 1\n",
        "\n",
        "  sbX_nilaiRendah.insert(0, 0)  \n",
        "  sbX_nilaiRendah.append(100)\n",
        "\n",
        "  sbY_nilaiRendah.insert(0, 1)\n",
        "  sbY_nilaiRendah.append(0)\n",
        "\n",
        "  plt.plot(sbX_nilaiRendah,sbY_nilaiRendah, color = 'blue') \n",
        "  plt.axis([0, 100, -0.01 ,1.01])\n",
        "  plt.xlabel('x')\n",
        "  plt.ylabel('μ(x)')\n",
        "  plt.suptitle('kurva Variabel nilai tes RENDAH')\n",
        "  plt.show\n"
      ],
      "metadata": {
        "id": "afLNEsSsrx61"
      },
      "execution_count": 275,
      "outputs": []
    },
    {
      "cell_type": "code",
      "source": [
        "domainnilaiRendah()"
      ],
      "metadata": {
        "id": "KOl5Yq717mn3",
        "colab": {
          "base_uri": "https://localhost:8080/",
          "height": 395
        },
        "outputId": "de1a3354-4da2-4298-d96a-a5ddb9d7d4f7"
      },
      "execution_count": 279,
      "outputs": [
        {
          "name": "stdout",
          "output_type": "stream",
          "text": [
            "Nilai test tulis dari siswa yang sudah di inputkan : 55.0\n",
            "Domain variabel fuzzy nilai test tulis di himpunan nilai test RENDAH (batas bawah) : \n",
            "40.0\n",
            "Domain variabel fuzzy nilai test tulis di himpunan nilai test RENDAH (batas atas) : \n",
            "60.0\n"
          ]
        },
        {
          "output_type": "display_data",
          "data": {
            "text/plain": [
              "<Figure size 432x288 with 1 Axes>"
            ],
            "image/png": "[encoded data removed]"
          },
          "metadata": {
            "needs_background": "light"
          }
        }
      ]
    },
    {
      "cell_type": "code",
      "source": [
        "def domainnilaiMenengah():\n",
        "  global x_nilai\n",
        "  global a_nilaiMenengah\n",
        "  global c_nilaiMenengah\n",
        "  global b_nilaiMenengah\n",
        "  global d_nilaiMenengah\n",
        "  global e_nilaiMenengah\n",
        "  global sbX_nilaiMenengah\n",
        "  global sbY_nilaiMenengah\n",
        "\n",
        "  print(\"Nilai test tulis dari siswa yang sudah di inputkan : {nilaiTes}\".format(nilaiTes = x_nilai))\n",
        "  \n",
        "  print(\"Domain variabel fuzzy nilai test tulis di himpunan nilai test MENENGAH (batas bawah) : \")\n",
        "  a_nilaiMenengah = float(input())\n",
        "  \n",
        "  print(\"Domain variabel fuzzy nilai test tulis di himpunan nilai test MENENGAH (batas atas) :\")\n",
        "  b_nilaiMenengah = float(input()) \n",
        "\n",
        "  c_nilaiMenengah = (a_nilaiMenengah + b_nilaiMenengah) / 2\n",
        "  d_nilaiMenengah = (a_nilaiMenengah + c_nilaiMenengah) / 2\n",
        "  e_nilaiMenengah = (c_nilaiMenengah + b_nilaiMenengah) / 2\n",
        "\n",
        "  sbX_nilaiMenengah = []\n",
        "  sbY_nilaiMenengah = []\n",
        "\n",
        "  for i in np.arange(a_nilaiMenengah, b_nilaiMenengah + 1, 0.1):\n",
        "\n",
        "    sbX_nilaiMenengah.append(i)\n",
        "    if  i <= (a_nilaiMenengah):\n",
        "      oordinat = 0\n",
        "      sbY_nilaiMenengah.append(oordinat)\n",
        "\n",
        "    elif i < (d_nilaiMenengah) and i > a_nilaiMenengah:\n",
        "      oordinat = oordinat = 2* pow(((i- a_nilaiMenengah)/(c_nilaiMenengah - a_nilaiMenengah) ),2)\n",
        "      sbY_nilaiMenengah.append(oordinat)\n",
        "\n",
        "    elif i == d_nilaiMenengah:\n",
        "      oordinat = 0.5\n",
        "      sbY_nilaiMenengah.append(oordinat)\n",
        "\n",
        "    elif i < c_nilaiMenengah and i > d_nilaiMenengah:\n",
        "      oordinat = 1 - 2* pow(((c_nilaiMenengah - i) / (c_nilaiMenengah - a_nilaiMenengah)),2)\n",
        "      sbY_nilaiMenengah.append(oordinat)\n",
        "\n",
        "    elif i == c_nilaiMenengah:\n",
        "      oordinat = 1\n",
        "      sbY_nilaiMenengah.append(oordinat)\n",
        "\n",
        "    elif i > c_nilaiMenengah and i < e_nilaiMenengah:\n",
        "      oordinat = 1 - 2* pow(((i - c_nilaiMenengah) / (b_nilaiMenengah - c_nilaiMenengah)),2)\n",
        "      sbY_nilaiMenengah.append(oordinat)\n",
        "\n",
        "    elif i == e_nilaiMenengah:\n",
        "      oordinat = 0.5\n",
        "      sbY_nilaiMenengah.append(oordinat)\n",
        "\n",
        "    elif i > e_nilaiMenengah and i < b_nilaiMenengah:\n",
        "      oordinat = 2* pow(((b_nilaiMenengah - i)/(b_nilaiMenengah - c_nilaiMenengah) ),2)\n",
        "      sbY_nilaiMenengah.append(oordinat)\n",
        "\n",
        "    elif i >= b_nilaiMenengah:\n",
        "      oordinat =0\n",
        "      sbY_nilaiMenengah.append(oordinat)\n",
        "\n",
        "    i += 1\n",
        "    \n",
        "  sbX_nilaiMenengah.insert(0, 0)\n",
        "  sbX_nilaiMenengah.append(100)\n",
        "\n",
        "  sbY_nilaiMenengah.insert(0, 0)\n",
        "  sbY_nilaiMenengah.append(0)\n",
        "  \n",
        "  plt.plot(sbX_nilaiMenengah,sbY_nilaiMenengah, color = 'green') \n",
        "  plt.axis([0, 100, -0.01 ,1.01])\n",
        "  plt.xlabel('x')\n",
        "  plt.ylabel('μ(x)')\n",
        "  plt.suptitle('kurva Variabel nilai tes Menengah')\n",
        "\n",
        "  plt.show\n"
      ],
      "metadata": {
        "id": "myRk4buEiypc"
      },
      "execution_count": 206,
      "outputs": []
    },
    {
      "cell_type": "code",
      "source": [
        "domainnilaiMenengah()"
      ],
      "metadata": {
        "colab": {
          "base_uri": "https://localhost:8080/",
          "height": 395
        },
        "id": "kk3hF2Em6R0T",
        "outputId": "9e068ee8-4724-4a15-c38a-a7be740d7213"
      },
      "execution_count": 207,
      "outputs": [
        {
          "name": "stdout",
          "output_type": "stream",
          "text": [
            "Nilai test tulis dari siswa yang sudah di inputkan : 55.0\n",
            "Domain variabel fuzzy nilai test tulis di himpunan nilai test MENENGAH (batas bawah) : \n",
            "50\n",
            "Domain variabel fuzzy nilai test tulis di himpunan nilai test MENENGAH (batas atas) :\n",
            "76\n"
          ]
        },
        {
          "output_type": "display_data",
          "data": {
            "text/plain": [
              "<Figure size 432x288 with 1 Axes>"
            ],
            "image/png": "[encoded data removed]"
          },
          "metadata": {
            "needs_background": "light"
          }
        }
      ]
    },
    {
      "cell_type": "code",
      "source": [
        "def domainnilaiTinggi():\n",
        "  global x_nilai\n",
        "  global a_nilaiTinggi\n",
        "  global c_nilaiTinggi\n",
        "  global b_nilaiTinggi\n",
        "  global sbX_nilaiTinggi\n",
        "  global sbY_nilaiTinggi\n",
        "\n",
        "  print(\"Nilai test tulis dari siswa yang sudah di inputkan : {nilaiTes}\".format(nilaiTes = x_nilai))\n",
        "  \n",
        "  print(\"Domain variabel fuzzy nilai test tulis di himpunan nilai test TINGGI (batas bawah) : \")\n",
        "  a_nilaiTinggi = float(input())\n",
        "  print(\"Domain variabel fuzzy nilai test tulis di himpunan nilai test TINGGI (batas atas) :\")\n",
        "  c_nilaiTinggi = float(input()) \n",
        "  b_nilaiTinggi = (a_nilaiTinggi + c_nilaiTinggi) / 2\n",
        "\n",
        "  sbX_nilaiTinggi = []\n",
        "  sbY_nilaiTinggi = []\n",
        "\n",
        "  for i in np.arange(a_nilaiTinggi, c_nilaiTinggi + 1, 0.1):\n",
        "\n",
        "    sbX_nilaiTinggi.append(i)\n",
        "    if  i < (b_nilaiTinggi) and i > a_nilaiTinggi:\n",
        "      oordinat = 2* pow(((i- a_nilaiTinggi)/(c_nilaiTinggi - a_nilaiTinggi) ),2)\n",
        "      sbY_nilaiTinggi.append(oordinat)\n",
        "\n",
        "    elif i > (b_nilaiTinggi) and i < c_nilaiTinggi: \n",
        "      oordinat = 1 - 2* pow(((c_nilaiTinggi - i) / (c_nilaiTinggi - a_nilaiTinggi)),2)\n",
        "      sbY_nilaiTinggi.append(oordinat)\n",
        "\n",
        "    elif i == (b_nilaiTinggi):\n",
        "      oordinat = 0.5\n",
        "      sbY_nilaiTinggi.append(oordinat)\n",
        "\n",
        "    elif i <= a_nilaiTinggi:\n",
        "      oordinat = 0\n",
        "      sbY_nilaiTinggi.append(oordinat)\n",
        "\n",
        "    elif i >= c_nilaiTinggi:\n",
        "      oordinat = 1\n",
        "      sbY_nilaiTinggi.append(oordinat)\n",
        "    i += 1\n",
        "\n",
        "  sbX_nilaiTinggi.insert(0, 0)\n",
        "  sbX_nilaiTinggi.append(100)\n",
        "\n",
        "  sbY_nilaiTinggi.insert(0, 0)\n",
        "  sbY_nilaiTinggi.append(1)\n",
        "  \n",
        "  plt.plot(sbX_nilaiTinggi,sbY_nilaiTinggi, color = 'red') \n",
        "  plt.axis([0, 100, -0.01 ,1.01])\n",
        "  plt.xlabel('x')\n",
        "  plt.ylabel('μ(x)')\n",
        "  plt.suptitle('kurva Variabel nilai tes TINGGI')\n",
        "  plt.show\n"
      ],
      "metadata": {
        "id": "HfBxEhvoKW5I"
      },
      "execution_count": 208,
      "outputs": []
    },
    {
      "cell_type": "code",
      "source": [
        "domainnilaiTinggi()"
      ],
      "metadata": {
        "colab": {
          "base_uri": "https://localhost:8080/",
          "height": 395
        },
        "id": "Yh2LGZr6av0b",
        "outputId": "ede2d3d5-587f-4240-af11-42272259bfc7"
      },
      "execution_count": 209,
      "outputs": [
        {
          "name": "stdout",
          "output_type": "stream",
          "text": [
            "Nilai test tulis dari siswa yang sudah di inputkan : 55.0\n",
            "Domain variabel fuzzy nilai test tulis di himpunan nilai test TINGGI (batas bawah) : \n",
            "70.0\n",
            "Domain variabel fuzzy nilai test tulis di himpunan nilai test TINGGI (batas atas) :\n",
            "86.0\n"
          ]
        },
        {
          "output_type": "display_data",
          "data": {
            "text/plain": [
              "<Figure size 432x288 with 1 Axes>"
            ],
            "image/png": "[encoded data removed]"
          },
          "metadata": {
            "needs_background": "light"
          }
        }
      ]
    },
    {
      "cell_type": "markdown",
      "source": [
        "Langkah selanjutnya menentukan derajat keanggotaan untuk variabel nilai tes atau nilai tes tulis yang didapat siswa calon penerima beasiswa. "
      ],
      "metadata": {
        "id": "rGqATtwYDF_D"
      }
    },
    {
      "cell_type": "code",
      "source": [
        "def μNilaiRENDAH():\n",
        "  global μNilaiRENDAH \n",
        "\n",
        "  if x_nilai >= (c_nilaiRendah):\n",
        "    μNilaiRENDAH = 0\n",
        "\n",
        "  elif  x_nilai < (b_nilaiRendah) and x_nilai > (a_nilaiRendah):\n",
        "    μNilaiRENDAH = 1 - 2* pow(((x_nilai - a_nilaiRendah) / (c_nilaiRendah - a_nilaiRendah)),2)\n",
        "    \n",
        "  elif x_nilai > (b_nilaiRendah) and x_nilai < (c_nilaiRendah): \n",
        "    μNilaiRENDAH = 2* pow(((c_nilaiRendah-x_nilai)/(c_nilaiRendah-a_nilaiRendah) ),2)\n",
        "    \n",
        "  elif x_nilai == (b_nilaiRendah):\n",
        "    μNilaiRENDAH = 0.5\n",
        "\n",
        "  elif x_nilai <= (a_nilaiRendah):\n",
        "    μNilaiRENDAH = 1\n",
        "\n",
        "  print(\"Untuk nilai tes tulis sebesar {nilaiTes} nilai μNilaiRENDAH adalah : {derajatNilaiRendah}\" \n",
        "        .format(nilaiTes = x_nilai, derajatNilaiRendah = μNilaiRENDAH))\n",
        "\n",
        "\n",
        "  plt.plot(sbX_nilaiRendah,sbY_nilaiRendah, color = 'blue') \n",
        "  plt.plot(sbX_nilaiMenengah,sbY_nilaiMenengah, color = 'green') \n",
        "  plt.plot(sbX_nilaiTinggi,sbY_nilaiTinggi, color = 'red') \n",
        "  plt.plot([0,x_nilai,x_nilai],[μNilaiRENDAH,μNilaiRENDAH,0], 'k--') \n",
        "  \n",
        "  plt.plot([x_nilai], [μNilaiRENDAH], 'ko')\n",
        "  plt.axis([0, 100, -0.01 ,1.01])\n",
        "  plt.xlabel('x')\n",
        "  plt.ylabel('μ(x)')\n",
        "  plt.suptitle('derajat keanggotaan variabel Nilai tes Himpunan RENDAH')\n",
        "  \n",
        "  plt.show"
      ],
      "metadata": {
        "id": "8UPz5gmrD-LA"
      },
      "execution_count": 210,
      "outputs": []
    },
    {
      "cell_type": "code",
      "source": [
        "μNilaiRENDAH()"
      ],
      "metadata": {
        "colab": {
          "base_uri": "https://localhost:8080/",
          "height": 325
        },
        "id": "q6BtInkaMDZM",
        "outputId": "223a3da6-c9bc-45aa-f942-30efb548dcc1"
      },
      "execution_count": 211,
      "outputs": [
        {
          "output_type": "stream",
          "name": "stdout",
          "text": [
            "Untuk nilai tes tulis sebesar 55.0 nilai μNilaiRENDAH adalah : 0.125\n"
          ]
        },
        {
          "output_type": "display_data",
          "data": {
            "text/plain": [
              "<Figure size 432x288 with 1 Axes>"
            ],
            "image/png": "[encoded data removed]"
          },
          "metadata": {
            "needs_background": "light"
          }
        }
      ]
    },
    {
      "cell_type": "code",
      "source": [
        "def μNilaiMENENGAH():\n",
        "  global μNilaiMENENGAH\n",
        "\n",
        "  if  x_nilai <= (a_nilaiMenengah):\n",
        "    μNilaiMENENGAH = 0\n",
        "\n",
        "  elif x_nilai < (d_nilaiMenengah) and x_nilai > a_nilaiMenengah:\n",
        "    μNilaiMENENGAH = oordinat = 2* pow(((x_nilai- a_nilaiMenengah)/(c_nilaiMenengah - a_nilaiMenengah) ),2)\n",
        "\n",
        "  elif x_nilai == d_nilaiMenengah:\n",
        "    μNilaiMENENGAH = 0.5\n",
        "\n",
        "  elif x_nilai < c_nilaiMenengah and x_nilai > d_nilaiMenengah:\n",
        "    μNilaiMENENGAH = 1 - 2* pow(((c_nilaiMenengah - x_nilai) / (c_nilaiMenengah - a_nilaiMenengah)),2)\n",
        "\n",
        "  elif x_nilai == c_nilaiMenengah:\n",
        "    μNilaiMENENGAH = 1\n",
        "\n",
        "  elif x_nilai > c_nilaiMenengah and x_nilai < e_nilaiMenengah:\n",
        "    μNilaiMENENGAH = 1 - 2* pow(((x_nilai - c_nilaiMenengah) / (b_nilaiMenengah - c_nilaiMenengah)),2)\n",
        "\n",
        "  elif x_nilai == e_nilaiMenengah:\n",
        "    μNilaiMENENGAH = 0.5\n",
        "    \n",
        "  elif x_nilai > e_nilaiMenengah and x_nilai < b_nilaiMenengah:\n",
        "    μNilaiMENENGAH = 2* pow(((b_nilaiMenengah - x_nilai)/(b_nilaiMenengah - c_nilaiMenengah) ),2)\n",
        "    \n",
        "  elif x_nilai >= b_nilaiMenengah:\n",
        "    μNilaiMENENGAH =0\n",
        "  \n",
        "  print(\"Untuk nilai tes tulis sebesar {nilaiTes} nilai μNilaiMENENGAH adalah : {derajatNilaiMenengah}\" \n",
        "        .format(nilaiTes = x_nilai, derajatNilaiMenengah = μNilaiMENENGAH))\n",
        "   \n",
        "  print(\"Untuk nilai tes tulis sebesar {nilaiTes} nilai μNilaiRENDAH adalah : {derajatNilaiRendah}\" \n",
        "        .format(nilaiTes = x_nilai, derajatNilaiRendah = μNilaiRENDAH))\n",
        "\n",
        "\n",
        "  plt.plot(sbX_nilaiRendah,sbY_nilaiRendah, color = 'blue') \n",
        "  plt.plot(sbX_nilaiMenengah,sbY_nilaiMenengah, color = 'green') \n",
        "  plt.plot(sbX_nilaiTinggi,sbY_nilaiTinggi, color = 'red') \n",
        "  plt.plot([0,x_nilai,x_nilai],[μNilaiRENDAH,μNilaiRENDAH,0], 'k--') \n",
        "  plt.plot([0,x_nilai,x_nilai],[μNilaiMENENGAH,μNilaiMENENGAH,0], 'k--') \n",
        "  \n",
        "  plt.plot([x_nilai], [μNilaiRENDAH], 'ko')\n",
        "  plt.plot([x_nilai], [μNilaiMENENGAH], 'ko')\n",
        "\n",
        "  plt.axis([0, 100, -0.01 ,1.01])\n",
        "  plt.xlabel('x')\n",
        "  plt.ylabel('μ(x)')\n",
        "  plt.suptitle('derajat keanggotaan variabel Nilai tes Himpunan RENDAH')\n",
        "  \n",
        "\n",
        "  plt.show"
      ],
      "metadata": {
        "id": "tmQt0GMJBgb3"
      },
      "execution_count": 212,
      "outputs": []
    },
    {
      "cell_type": "code",
      "source": [
        "μNilaiMENENGAH()"
      ],
      "metadata": {
        "colab": {
          "base_uri": "https://localhost:8080/",
          "height": 343
        },
        "id": "tX_7-ETGE4ZU",
        "outputId": "732e36f4-8412-469c-9840-934bb734323f"
      },
      "execution_count": 213,
      "outputs": [
        {
          "output_type": "stream",
          "name": "stdout",
          "text": [
            "Untuk nilai tes tulis sebesar 55.0 nilai μNilaiMENENGAH adalah : 0.2958579881656805\n",
            "Untuk nilai tes tulis sebesar 55.0 nilai μNilaiRENDAH adalah : 0.125\n"
          ]
        },
        {
          "output_type": "display_data",
          "data": {
            "text/plain": [
              "<Figure size 432x288 with 1 Axes>"
            ],
            "image/png": "[encoded data removed]"
          },
          "metadata": {
            "needs_background": "light"
          }
        }
      ]
    },
    {
      "cell_type": "code",
      "source": [
        "def μNilaiTINGGI():\n",
        "  if x_nilai <= (a_nilaiTinggi):\n",
        "    μNilaiTINGGI = 0\n",
        "\n",
        "  elif  x_nilai < (b_nilaiTinggi) and x_nilai > (a_nilaiTinggi):\n",
        "    μNilaiTINGGI = 2* pow(((x_nilai- a_nilaiTinggi)/(c_nilaiTinggi - a_nilaiTinggi) ),2)\n",
        "    \n",
        "\n",
        "  elif x_nilai > (b_nilaiTinggi) and x_nilai < (c_nilaiTinggi): \n",
        "    μNilaiTINGGI = 1 - 2* pow(((c_nilaiTinggi - x_nilai) / (c_nilaiTinggi - a_nilaiTinggi)),2)\n",
        "    \n",
        "\n",
        "  elif x_nilai == (b_nilaiTinggi):\n",
        "    μNilaiTINGGI = 0.5\n",
        "\n",
        "  elif x_nilai >= (c_nilaiTinggi):\n",
        "    μNilaiTINGGI = 1\n",
        "    \n",
        "  print(\"Untuk nilai tes tulis sebesar {nilaiTest} nilai μNilaiTINGGI adalah : {derajatNilaiTINGGI}\" \n",
        "        .format(nilaiTest = x_nilai, derajatNilaiTINGGI = μNilaiTINGGI))\n",
        "  \n",
        "  print(\"Untuk nilai tes tulis sebesar {nilaiTes} nilai μNilaiRENDAH adalah : {derajatNilaiRendah}\" \n",
        "        .format(nilaiTes = x_nilai, derajatNilaiRendah = μNilaiRENDAH))\n",
        "  \n",
        "  print(\"Untuk nilai tes tulis sebesar {nilaiTes} nilai μNilaiMENENGAH adalah : {derajatNilaiMenengah}\" \n",
        "        .format(nilaiTes = x_nilai, derajatNilaiMenengah = μNilaiMENENGAH))\n",
        "\n",
        "\n",
        "  plt.plot(sbX_nilaiRendah,sbY_nilaiRendah, color = 'blue') \n",
        "  plt.plot(sbX_nilaiMenengah,sbY_nilaiMenengah, color = 'green') \n",
        "  plt.plot(sbX_nilaiTinggi,sbY_nilaiTinggi, color = 'red') \n",
        "  \n",
        "  plt.plot([0,x_nilai,x_nilai],[μNilaiRENDAH,μNilaiRENDAH,0], 'k--') \n",
        "  plt.plot([0,x_nilai,x_nilai],[μNilaiMENENGAH,μNilaiMENENGAH,0], 'k--')   \n",
        "  plt.plot([0,x_nilai,x_nilai],[μNilaiTINGGI,μNilaiTINGGI,0], 'k--') \n",
        "\n",
        "  plt.plot([x_nilai], [μNilaiRENDAH], 'ko')\n",
        "  plt.plot([x_nilai], [μNilaiMENENGAH], 'ko')\n",
        "  plt.plot([x_nilai], [μNilaiTINGGI], 'ko')\n",
        "  plt.axis([0, 100, -0.01 ,1.01])\n",
        "  plt.xlabel('x')\n",
        "  plt.ylabel('μ(x)')\n",
        "  plt.suptitle('derajat keanggotaan variabel Nilai tes himpunan TINGGI')\n",
        "  \n",
        "\n",
        "  plt.show"
      ],
      "metadata": {
        "id": "kxUoE1H9MzC1"
      },
      "execution_count": 214,
      "outputs": []
    },
    {
      "cell_type": "code",
      "source": [
        "μNilaiTINGGI()"
      ],
      "metadata": {
        "colab": {
          "base_uri": "https://localhost:8080/",
          "height": 360
        },
        "id": "m09EeyiasfBh",
        "outputId": "6bfc3199-95a9-4cf2-9748-9abe0b96d0ab"
      },
      "execution_count": 215,
      "outputs": [
        {
          "output_type": "stream",
          "name": "stdout",
          "text": [
            "Untuk nilai tes tulis sebesar 55.0 nilai μNilaiTINGGI adalah : 0\n",
            "Untuk nilai tes tulis sebesar 55.0 nilai μNilaiRENDAH adalah : 0.125\n",
            "Untuk nilai tes tulis sebesar 55.0 nilai μNilaiMENENGAH adalah : 0.2958579881656805\n"
          ]
        },
        {
          "output_type": "display_data",
          "data": {
            "text/plain": [
              "<Figure size 432x288 with 1 Axes>"
            ],
            "image/png": "[encoded data removed]"
          },
          "metadata": {
            "needs_background": "light"
          }
        }
      ]
    },
    {
      "cell_type": "markdown",
      "source": [
        "KURVA UNTUK VARIABEL PENGGUNAAN LISTRIK"
      ],
      "metadata": {
        "id": "Aglwaz8jzNxr"
      }
    },
    {
      "cell_type": "code",
      "source": [
        "def penggunaanListrik():\n",
        "  global x_listrik\n",
        "  print(\"Masukkan besar kWh penggunaan listrik rumah siswa : \")\n",
        "  x_listrik = float(input())"
      ],
      "metadata": {
        "id": "ffXk5Hy0wAol"
      },
      "execution_count": 216,
      "outputs": []
    },
    {
      "cell_type": "code",
      "source": [
        "penggunaanListrik()"
      ],
      "metadata": {
        "colab": {
          "base_uri": "https://localhost:8080/"
        },
        "id": "08E-Tu08yfvy",
        "outputId": "f89bf15a-7504-44cc-d20d-0d6e73ee1aaf"
      },
      "execution_count": 220,
      "outputs": [
        {
          "name": "stdout",
          "output_type": "stream",
          "text": [
            "Masukkan besar kWh penggunaan listrik rumah siswa : \n",
            "109\n"
          ]
        }
      ]
    },
    {
      "cell_type": "code",
      "source": [
        "def domainlistrikIRIT():\n",
        "  global x_listrik\n",
        "  global a_listrikIrit\n",
        "  global c_listrikIrit\n",
        "  global b_listrikIrit\n",
        "  global sbX_listrikIrit\n",
        "  global sbY_listrikIrit\n",
        "\n",
        "  print(\"Domain variabel fuzzy penggunaan listrik di himpunan listrik IRIT (batas bawah) : \")\n",
        "  a_listrikIrit = float(input())\n",
        "  print(\"Domain variabel fuzzy penggunaan listrik di himpunan listrik IRIT (batas bawah) : \")\n",
        "  c_listrikIrit = float(input()) \n",
        "  b_listrikIrit = (a_listrikIrit + c_listrikIrit) / 2\n",
        "\n",
        "  sbX_listrikIrit = []\n",
        "  sbY_listrikIrit = []\n",
        "\n",
        "  for i in np.arange(a_listrikIrit,c_listrikIrit + 1, 0.1):\n",
        "\n",
        "    sbX_listrikIrit.append(i)\n",
        "    if  i < (b_listrikIrit) and i > a_listrikIrit:\n",
        "      oordinat = 1 - 2* pow(((i - a_listrikIrit) / (c_listrikIrit - a_listrikIrit)),2)\n",
        "      sbY_listrikIrit.append(oordinat)\n",
        "\n",
        "    elif i > (b_listrikIrit) and i < c_listrikIrit: \n",
        "      oordinat = 2* pow(((c_listrikIrit-i)/(c_listrikIrit-a_listrikIrit) ),2)\n",
        "      sbY_listrikIrit.append(oordinat)\n",
        "\n",
        "    elif i == (b_listrikIrit):\n",
        "      oordinat = 0.5\n",
        "      sbY_listrikIrit.append(oordinat)\n",
        "\n",
        "    elif i >= c_listrikIrit:\n",
        "      oordinat = 0\n",
        "      sbY_listrikIrit.append(oordinat)\n",
        "\n",
        "    elif i <= a_listrikIrit:\n",
        "      oordinat = 1\n",
        "      sbY_listrikIrit.append(oordinat)\n",
        "      \n",
        "    i += 1\n",
        "\n",
        "\n",
        "  sbX_listrikIrit.insert(0, 0)\n",
        "  sbX_listrikIrit.append(c_listrikIrit + 200)\n",
        "\n",
        "  sbY_listrikIrit.insert(0, 1)\n",
        "  sbY_listrikIrit.append(0)\n",
        "\n",
        "  plt.plot(sbX_listrikIrit,sbY_listrikIrit, color = 'blue') \n",
        "  plt.axis([0, c_listrikIrit + 10, -0.01 ,1.01])\n",
        "  plt.xlabel('x')\n",
        "  plt.ylabel('μ(x)')\n",
        "  plt.suptitle('kurva Variabel listrik penggunaan IRIT')\n",
        "  plt.show\n"
      ],
      "metadata": {
        "id": "AcqxvWN5KH21"
      },
      "execution_count": 302,
      "outputs": []
    },
    {
      "cell_type": "code",
      "source": [
        "domainlistrikIRIT()"
      ],
      "metadata": {
        "id": "1g_u6tnUOD5F"
      },
      "execution_count": null,
      "outputs": []
    },
    {
      "cell_type": "code",
      "source": [
        "def domainlistrikBOROS():\n",
        "  global x_listrik\n",
        "  global a_listrikBoros\n",
        "  global c_listrikBoros\n",
        "  global b_listrikBoros\n",
        "  global sbX_listrikBoros\n",
        "  global sbY_listrikBoros\n",
        "\n",
        "  print(\"jumlah kWh penggunaan listrik siswa yang sudah di inputkan : {listrik}\".format(listrik = x_listrik))\n",
        "  \n",
        "  print(\"Domain variabel fuzzy penggunaan listrik di himpunan listrik BOROS (batas bawah) : \")\n",
        "  a_listrikBoros = float(input())\n",
        "  print(\"Domain variabel fuzzy penggunaan listrik di himpunan listrik BOROS (batas atas) : \")\n",
        "  c_listrikBoros = float(input()) \n",
        "  b_listrikBoros = (a_listrikBoros + c_listrikBoros) / 2\n",
        "\n",
        "  sbX_listrikBoros = []\n",
        "  sbY_listrikBoros = []\n",
        "\n",
        "  for i in np.arange(a_listrikBoros,c_listrikBoros + 0.1):\n",
        "\n",
        "    sbX_listrikBoros.append(i)\n",
        "    if  i < (b_listrikBoros) and i > a_listrikBoros:\n",
        "      oordinat = 2* pow(((i- a_listrikBoros)/(c_listrikBoros - a_listrikBoros) ),2)\n",
        "      sbY_listrikBoros.append(oordinat)\n",
        "\n",
        "    elif i > (b_listrikBoros) and i < c_listrikBoros: \n",
        "      oordinat = 1 - 2* pow(((c_listrikBoros - i) / (c_listrikBoros- a_listrikBoros)),2)\n",
        "      sbY_listrikBoros.append(oordinat)\n",
        "\n",
        "    elif i == (b_listrikBoros):\n",
        "      oordinat = 0.5\n",
        "      sbY_listrikBoros.append(oordinat)\n",
        "\n",
        "    elif i <= a_listrikBoros:\n",
        "      oordinat = 0\n",
        "      sbY_listrikBoros.append(oordinat)\n",
        "\n",
        "    elif i >= c_listrikBoros:\n",
        "      oordinat = 1\n",
        "      sbY_listrikBoros.append(oordinat)\n",
        "    i += 1\n",
        "\n",
        "  \n",
        "  sbX_listrikBoros.insert(0, 0)\n",
        "  sbX_listrikBoros.append(c_listrikBoros + 30)\n",
        "\n",
        "  sbY_listrikBoros.insert(0, 0)\n",
        "  sbY_listrikBoros.append(1)\n",
        "  \n",
        "\n",
        "  plt.plot(sbX_listrikBoros,sbY_listrikBoros, color = 'red') \n",
        "  plt.axis([0, c_listrikBoros + 30, -0.01 ,1.01])\n",
        "  plt.xlabel('x')\n",
        "  plt.ylabel('μ(x)')\n",
        "  plt.suptitle('kurva Variabel listrik penggunaan BOROS')\n",
        "  plt.show\n"
      ],
      "metadata": {
        "id": "CsawJn25zDE8"
      },
      "execution_count": 225,
      "outputs": []
    },
    {
      "cell_type": "code",
      "source": [
        "domainlistrikBOROS()"
      ],
      "metadata": {
        "colab": {
          "base_uri": "https://localhost:8080/",
          "height": 395
        },
        "id": "dhJZOT0C_4aw",
        "outputId": "4add50a0-c7df-4cbe-e30f-f2dd2234a0bf"
      },
      "execution_count": 226,
      "outputs": [
        {
          "name": "stdout",
          "output_type": "stream",
          "text": [
            "jumlah kWh penggunaan listrik siswa yang sudah di inputkan : 109.0\n",
            "Domain variabel fuzzy penggunaan listrik di himpunan listrik BOROS (batas bawah) : \n",
            "108\n",
            "Domain variabel fuzzy penggunaan listrik di himpunan listrik BOROS (batas atas) : \n",
            "180\n"
          ]
        },
        {
          "output_type": "display_data",
          "data": {
            "text/plain": [
              "<Figure size 432x288 with 1 Axes>"
            ],
            "image/png": "[encoded data removed]"
          },
          "metadata": {
            "needs_background": "light"
          }
        }
      ]
    },
    {
      "cell_type": "markdown",
      "source": [
        "Langkah selanjutnya menentukan derajat keanggotaan untuk variabel data rekening listrik sebulan terakhir calon penerima beasiswa. "
      ],
      "metadata": {
        "id": "9pIXouWkTTV1"
      }
    },
    {
      "cell_type": "code",
      "source": [
        "def μListrikIRIT():\n",
        "  global μlistrikIrit\n",
        "\n",
        "  if x_penghasilan < (b_listrikIrit) and x_penghasilan > a_listrikIrit:\n",
        "    μlistrikIrit = 1 - 2* pow(((x_penghasilan - a_listrikIrit) / (c_listrikIrit - a_listrikIrit)),2)     \n",
        "\n",
        "  elif x_penghasilan > (b_listrikIrit) and x_penghasilan < c_listrikIrit: \n",
        "    μlistrikIrit = 2* pow(((c_listrikIrit-x_penghasilan)/(c_listrikIrit-a_listrikIrit) ),2)\n",
        "    \n",
        "  elif x_penghasilan == (b_listrikIrit):\n",
        "    μlistrikIrit = 0.5 \n",
        "\n",
        "  elif x_penghasilan >= c_listrikIrit:\n",
        "    μlistrikIrit = 0\n",
        "\n",
        "  elif x_penghasilan <= a_listrikIrit:\n",
        "    μlistrikIrit = 1\n",
        "  \n",
        "    \n",
        "  print(\"Untuk penggunaan listrik sebesar {kWh} kWh nilai μlistrikIrit adalah : {derajatListrikIrit}\" \n",
        "        .format(kWh = x_penghasilan, derajatListrikIrit = μlistrikIrit))\n",
        "\n",
        "\n",
        "  plt.plot(sbX_listrikIrit,sbY_listrikIrit, color = 'blue') \n",
        "  plt.plot(sbX_listrikBoros,sbY_listrikBoros, color = 'red') \n",
        "  plt.plot([0,x_penghasilan,x_penghasilan],[μlistrikIrit,μlistrikIrit,0], 'g--') \n",
        "  \n",
        "  plt.plot([x_penghasilan], [μlistrikIrit], 'go')\n",
        "  plt.axis([0, c_listrikBoros + 30, -0.01 ,1.01])\n",
        "  plt.xlabel('x')\n",
        "  plt.ylabel('μ(x)')\n",
        "  plt.suptitle('derajat keanggotaan variabel penggunaan listrik Himpunan IRIT')\n",
        "  \n",
        "\n",
        "  plt.show"
      ],
      "metadata": {
        "id": "6YbFASt0_66K"
      },
      "execution_count": 234,
      "outputs": []
    },
    {
      "cell_type": "code",
      "source": [
        "μListrikIRIT()"
      ],
      "metadata": {
        "colab": {
          "base_uri": "https://localhost:8080/",
          "height": 325
        },
        "id": "tAvORK5vVYfe",
        "outputId": "3ea74fb6-a019-4fa1-b847-b962a5618cd2"
      },
      "execution_count": 235,
      "outputs": [
        {
          "output_type": "stream",
          "name": "stdout",
          "text": [
            "Untuk penggunaan listrik sebesar 109.0 kWh nilai μlistrikIrit adalah : 0.16574839302112032\n"
          ]
        },
        {
          "output_type": "display_data",
          "data": {
            "text/plain": [
              "<Figure size 432x288 with 1 Axes>"
            ],
            "image/png": "[encoded data removed]"
          },
          "metadata": {
            "needs_background": "light"
          }
        }
      ]
    },
    {
      "cell_type": "code",
      "source": [
        "def μListrikBOROS():\n",
        "\n",
        "  global μlistrikBoros\n",
        "\n",
        "  if  x_listrik < (b_listrikBoros) and x_listrik > a_listrikBoros:\n",
        "    μlistrikBoros = 2* pow(((x_listrik- a_listrikBoros)/(c_listrikBoros - a_listrikBoros) ),2)\n",
        "\n",
        "  elif x_listrik > (b_listrikBoros) and x_listrik < c_listrikBoros: \n",
        "    μlistrikBoros = 1 - 2* pow(((c_listrikBoros - x_listrik) / (c_listrikBoros- a_listrikBoros)),2)\n",
        "\n",
        "  elif x_listrik == (b_listrikBoros):\n",
        "    μlistrikBoros = 0.5\n",
        "\n",
        "  elif x_listrik <= a_listrikBoros:\n",
        "    μlistrikBoros = 0\n",
        "\n",
        "  elif x_listrik >= c_listrikBoros:\n",
        "    μlistrikBoros = 1\n",
        "     \n",
        "\n",
        "  print(\"Untuk penggunaan listrik sebesar {kWh} nilai μlistrikIrit adalah : {derajatListrikIrit}\" \n",
        "        .format(kWh = x_listrik, derajatListrikIrit = μlistrikIrit))\n",
        "  \n",
        "  print(\"Untuk penggunaan listrik sebesar {kWh} nilai μListrikBOROS adalah : {derajatListrikBOROS}\" \n",
        "        .format(kWh = x_listrik, derajatListrikBOROS = μlistrikBoros))\n",
        "\n",
        "\n",
        "  plt.plot(sbX_listrikIrit,sbY_listrikIrit, color = 'blue') \n",
        "  plt.plot(sbX_listrikBoros,sbY_listrikBoros, color = 'red') \n",
        "  plt.plot([0,x_listrik,x_listrik],[μlistrikIrit,μlistrikIrit,0], 'g--')\n",
        "  plt.plot([0,x_listrik,x_listrik],[μlistrikBoros,μlistrikBoros,0], 'g--') \n",
        "  plt.plot([x_listrik], [μlistrikIrit], 'go')\n",
        "  plt.plot([x_listrik], [μlistrikBoros], 'go')\n",
        "  plt.axis([0, c_listrikBoros + 30, -0.01 ,1.01])\n",
        "  plt.xlabel('x')\n",
        "  plt.ylabel('μ(x)')\n",
        "  plt.suptitle('derajat keanggotaan variabel penggunaan listrik Himpunan BOROS')\n",
        "  \n",
        "\n",
        "  plt.show"
      ],
      "metadata": {
        "id": "x3PdgL0JVasy"
      },
      "execution_count": 240,
      "outputs": []
    },
    {
      "cell_type": "code",
      "source": [
        "μListrikBOROS()"
      ],
      "metadata": {
        "colab": {
          "base_uri": "https://localhost:8080/",
          "height": 343
        },
        "id": "a-lLdhacYx4F",
        "outputId": "d9c28e0e-8675-4dea-ed4b-468ba7abd110"
      },
      "execution_count": 241,
      "outputs": [
        {
          "output_type": "stream",
          "name": "stdout",
          "text": [
            "Untuk penggunaan listrik sebesar 109.0 nilai μlistrikIrit adalah : 0.16574839302112032\n",
            "Untuk penggunaan listrik sebesar 109.0 nilai μListrikBOROS adalah : 0.00038580246913580245\n"
          ]
        },
        {
          "output_type": "display_data",
          "data": {
            "text/plain": [
              "<Figure size 432x288 with 1 Axes>"
            ],
            "image/png": "[encoded data removed]"
          },
          "metadata": {
            "needs_background": "light"
          }
        }
      ]
    },
    {
      "cell_type": "markdown",
      "source": [
        "KURVA UNTUK VARIABEL PENDAPATAN ORANG TUA"
      ],
      "metadata": {
        "id": "b4m5RGWeGrC-"
      }
    },
    {
      "cell_type": "code",
      "source": [
        "def besarPenghasilan():\n",
        "  global x_penghasilan\n",
        "  print(\"Masukkan besar penghasilan orang tua siswa : \\n(Contoh 4.6 untuk penghasilan 4.6 juta)\")\n",
        "  x_penghasilan = float(input())"
      ],
      "metadata": {
        "id": "ZUU7VVouG3ua"
      },
      "execution_count": 337,
      "outputs": []
    },
    {
      "cell_type": "code",
      "source": [
        "besarPenghasilan()"
      ],
      "metadata": {
        "colab": {
          "base_uri": "https://localhost:8080/"
        },
        "id": "NbNKddp_T8ZL",
        "outputId": "5a894567-965d-447c-9335-fcaef4cf1322"
      },
      "execution_count": 345,
      "outputs": [
        {
          "name": "stdout",
          "output_type": "stream",
          "text": [
            "Masukkan besar penghasilan orang tua siswa : \n",
            "(Contoh 4.6 untuk penghasilan 4.6 juta)\n",
            "9.8\n"
          ]
        }
      ]
    },
    {
      "cell_type": "code",
      "source": [
        "def domainpenghasilanKecil():\n",
        "  global x_penghasilan\n",
        "  global a_penghasilanKecil\n",
        "  global b_penghasilanKecil\n",
        "  global sbX_penghasilanKecil\n",
        "  global sbY_penghasilanKecil\n",
        "\n",
        "  print(\"Besar pendapatan orang tua siswa yang sudah di inputkan : {juta}\".format(juta = x_penghasilan))\n",
        "\n",
        "  print(\"Domain variabel fuzzy penghasilan orang tua di himpunan penghasilan KECIL (batas bawah) : \")\n",
        "  a_penghasilanKecil = float(input())\n",
        "  print(\"Domain variabel fuzzy penghasilan orang tua di himpunan penghasilan KECIL (batas atas) : \")\n",
        "  b_penghasilanKecil = float(input()) \n",
        "  \n",
        "\n",
        "  sbX_penghasilanKecil = []\n",
        "  sbY_penghasilanKecil = []\n",
        "\n",
        "  for i in np.arange(a_penghasilanKecil, b_penghasilanKecil + 1, 0.01):\n",
        "\n",
        "    sbX_penghasilanKecil.append(i)\n",
        "    if  i <= (b_penghasilanKecil) and i >= a_penghasilanKecil:\n",
        "      oordinat = ((b_penghasilanKecil - i) / (b_penghasilanKecil - a_penghasilanKecil))\n",
        "      sbY_penghasilanKecil.append(oordinat)\n",
        "\n",
        "    elif i >= b_penghasilanKecil:\n",
        "      oordinat = 0\n",
        "      sbY_penghasilanKecil.append(oordinat)\n",
        "\n",
        "    elif i <= a_penghasilanKecil:\n",
        "      oordinat = 1\n",
        "      sbY_penghasilanKecil.append(oordinat)\n",
        "\n",
        "    i += 1\n",
        "\n",
        "\n",
        "  sbX_penghasilanKecil.insert(0, 0)\n",
        "  sbX_penghasilanKecil.append(b_penghasilanKecil + 100 )\n",
        "\n",
        "  sbY_penghasilanKecil.insert(0, 1)\n",
        "  sbY_penghasilanKecil.append(0)\n",
        "\n",
        "  plt.plot(sbX_penghasilanKecil,sbY_penghasilanKecil, color = 'blue') \n",
        "  plt.axis([0, b_penghasilanKecil + 1, -0.01 ,1.01])\n",
        "  plt.xlabel('x  (x dalam juta)')\n",
        "  plt.ylabel('μ(x)')\n",
        "  plt.suptitle('kurva Variabel penghasilan himpinan penghasilan KECIL')\n",
        "  plt.show\n"
      ],
      "metadata": {
        "id": "mc4RzZgbGqnp"
      },
      "execution_count": 339,
      "outputs": []
    },
    {
      "cell_type": "code",
      "source": [
        "domainpenghasilanKecil()"
      ],
      "metadata": {
        "colab": {
          "base_uri": "https://localhost:8080/",
          "height": 395
        },
        "id": "BuFW3RCcP9i3",
        "outputId": "dc40039e-6c6f-4da5-e741-53a7faf26306"
      },
      "execution_count": 346,
      "outputs": [
        {
          "name": "stdout",
          "output_type": "stream",
          "text": [
            "Besar pendapatan orang tua siswa yang sudah di inputkan : 9.8\n",
            "Domain variabel fuzzy penghasilan orang tua di himpunan penghasilan KECIL (batas bawah) : \n",
            "2.4\n",
            "Domain variabel fuzzy penghasilan orang tua di himpunan penghasilan KECIL (batas atas) : \n",
            "7\n"
          ]
        },
        {
          "output_type": "display_data",
          "data": {
            "text/plain": [
              "<Figure size 432x288 with 1 Axes>"
            ],
            "image/png": "[encoded data removed]"
          },
          "metadata": {
            "needs_background": "light"
          }
        }
      ]
    },
    {
      "cell_type": "code",
      "source": [
        "def domainpenghasilanBesar():\n",
        "  global x_penghasilan\n",
        "  global a_penghasilanBesar\n",
        "  global b_penghasilanBesar\n",
        "  global sbX_penghasilanBesar\n",
        "  global sbY_penghasilanBesar\n",
        "\n",
        "  print(\"Besar pendapatan orang tua siswa yang sudah di inputkan : {juta}\".format(juta = x_penghasilan))\n",
        "\n",
        "  print(\"Domain variabel fuzzy penghasilan orang tua di himpunan penghasilan BESAR (batas bawah) : \")\n",
        "  a_penghasilanBesar = float(input())\n",
        "  print(\"Domain variabel fuzzy penghasilan orang tua di himpunan penghasilan BESAR (batas atas) : \")\n",
        "  b_penghasilanBesar = float(input()) \n",
        "  \n",
        "\n",
        "  sbX_penghasilanBesar = []\n",
        "  sbY_penghasilanBesar= []\n",
        "\n",
        "  for i in np.arange(a_penghasilanBesar, b_penghasilanBesar + 1, 0.01):\n",
        "\n",
        "    sbX_penghasilanBesar.append(i)\n",
        "    if  i <= (b_penghasilanBesar) and i >= a_penghasilanBesar:\n",
        "      oordinat = (( i- a_penghasilanBesar) / (b_penghasilanBesar - a_penghasilanBesar))\n",
        "      sbY_penghasilanBesar.append(oordinat)\n",
        "\n",
        "    elif i >= b_penghasilanBesar:\n",
        "      oordinat = 1\n",
        "      sbY_penghasilanBesar.append(oordinat)\n",
        "\n",
        "    elif i <= a_penghasilanBesar:\n",
        "      oordinat = 0\n",
        "      sbY_penghasilanBesar.append(oordinat)\n",
        "\n",
        "    i += 1\n",
        "\n",
        "\n",
        "  sbX_penghasilanBesar.insert(0, 0)\n",
        "  sbX_penghasilanBesar.append(b_penghasilanBesar + 11 )\n",
        "\n",
        "  sbY_penghasilanBesar.insert(0, 0)\n",
        "  sbY_penghasilanBesar.append(1)\n",
        "\n",
        "  plt.plot(sbX_penghasilanBesar,sbY_penghasilanBesar, color = 'red') \n",
        "  plt.axis([0, b_penghasilanBesar + 1, -0.01 ,1.01])\n",
        "  plt.xlabel('x  (x dalam juta)')\n",
        "  plt.ylabel('μ(x)')\n",
        "  plt.suptitle('kurva Variabel penghasilan himpinan penghasilan BESAR')\n",
        "  plt.show\n"
      ],
      "metadata": {
        "id": "aExpZ9FnP-8t"
      },
      "execution_count": 327,
      "outputs": []
    },
    {
      "cell_type": "code",
      "source": [
        "domainpenghasilanBesar()"
      ],
      "metadata": {
        "colab": {
          "base_uri": "https://localhost:8080/",
          "height": 395
        },
        "id": "Vm32kVhtbVNR",
        "outputId": "d75a2b6b-c776-4fb0-f871-cfa1b005edc4"
      },
      "execution_count": 347,
      "outputs": [
        {
          "name": "stdout",
          "output_type": "stream",
          "text": [
            "Besar pendapatan orang tua siswa yang sudah di inputkan : 9.8\n",
            "Domain variabel fuzzy penghasilan orang tua di himpunan penghasilan BESAR (batas bawah) : \n",
            "5.0\n",
            "Domain variabel fuzzy penghasilan orang tua di himpunan penghasilan BESAR (batas atas) : \n",
            "10\n"
          ]
        },
        {
          "output_type": "display_data",
          "data": {
            "text/plain": [
              "<Figure size 432x288 with 1 Axes>"
            ],
            "image/png": "[encoded data removed]"
          },
          "metadata": {
            "needs_background": "light"
          }
        }
      ]
    },
    {
      "cell_type": "markdown",
      "source": [
        "Langkah selanjutnya menentukan derajat keanggotaan untuk variabel penghasilan orang tua calon penerima beasiswa. "
      ],
      "metadata": {
        "id": "3TZQCq5Kgbqb"
      }
    },
    {
      "cell_type": "code",
      "source": [
        "def μPenghasilanKECIL():\n",
        "  global μpenghasilanKecil\n",
        "\n",
        "  if x_penghasilan <= (b_penghasilanKecil) and x_penghasilan >= a_penghasilanKecil:\n",
        "    μpenghasilanKecil =  ((b_penghasilanKecil - x_penghasilan) / (b_penghasilanKecil - a_penghasilanKecil))\n",
        "\n",
        "  elif x_penghasilan >= b_penghasilanKecil:\n",
        "    μpenghasilanKecil = 0\n",
        "\n",
        "  elif x_penghasilan <= a_penghasilanKecil:\n",
        "    μpenghasilanKecil = 1\n",
        "  \n",
        "    \n",
        "  print(\"Untuk penghasilan orang tua sebesar {juta} juta rupiah nilai μpenghasilanKecil adalah : {penghasilanKecil}\" \n",
        "        .format(juta = x_penghasilan, penghasilanKecil = μpenghasilanKecil))\n",
        "\n",
        "\n",
        "  plt.plot(sbX_penghasilanKecil,sbY_penghasilanKecil, color = 'blue') \n",
        "  plt.plot(sbX_penghasilanBesar,sbY_penghasilanBesar, color = 'red') \n",
        "  plt.plot([0,x_penghasilan,x_penghasilan],[μpenghasilanKecil,μpenghasilanKecil,0], 'g--') \n",
        "  \n",
        "  plt.plot([x_penghasilan], [μpenghasilanKecil], 'go')\n",
        "  plt.axis([0, b_penghasilanBesar + 1, -0.01 ,1.01])\n",
        "  plt.xlabel('x')\n",
        "  plt.ylabel('μ(x)')\n",
        "  plt.suptitle('derajat keanggotaan variabel penghasilan orang tua Himpunan KECIL :')\n",
        "  \n",
        "  plt.show"
      ],
      "metadata": {
        "id": "ABPI6SAVbW4N"
      },
      "execution_count": 348,
      "outputs": []
    },
    {
      "cell_type": "code",
      "source": [
        "μPenghasilanKECIL()"
      ],
      "metadata": {
        "colab": {
          "base_uri": "https://localhost:8080/",
          "height": 325
        },
        "id": "7COdBYUnjibb",
        "outputId": "7753fd48-8851-4875-9fe3-02ea23169a4b"
      },
      "execution_count": 349,
      "outputs": [
        {
          "output_type": "stream",
          "name": "stdout",
          "text": [
            "Untuk penghasilan orang tua sebesar 9.8 juta rupiah nilai μpenghasilanKecil adalah : 0\n"
          ]
        },
        {
          "output_type": "display_data",
          "data": {
            "text/plain": [
              "<Figure size 432x288 with 1 Axes>"
            ],
            "image/png": "[encoded data removed]"
          },
          "metadata": {
            "needs_background": "light"
          }
        }
      ]
    },
    {
      "cell_type": "code",
      "source": [
        "def μPenghasilanBesar():\n",
        "  global μpenghasilanBesar\n",
        "\n",
        "  if x_penghasilan <= (b_penghasilanBesar) and x_penghasilan >= a_penghasilanBesar:\n",
        "    μpenghasilanBesar = ((x_penghasilan - a_penghasilanBesar) / (b_penghasilanBesar - a_penghasilanBesar))\n",
        "\n",
        "  elif x_penghasilan >= b_penghasilanBesar:\n",
        "    μpenghasilanBesar = 0\n",
        "\n",
        "  elif x_penghasilan <= a_penghasilanBesar:\n",
        "    μpenghasilanBesar = 1\n",
        "  \n",
        "  print(\"Untuk penghasilan orang tua sebesar {juta} juta rupiah nilai μpenghasilanBesar adalah : {penghasilanBesar}\" \n",
        "        .format(juta = x_penghasilan, penghasilanBesar = μpenghasilanBesar))\n",
        "  \n",
        "  print(\"Untuk penghasilan orang tua sebesar {juta} juta rupiah nilai μpenghasilanKecil adalah : {penghasilanKecil}\" \n",
        "        .format(juta = x_penghasilan, penghasilanKecil = μpenghasilanKecil))\n",
        "\n",
        "\n",
        "  plt.plot(sbX_penghasilanKecil,sbY_penghasilanKecil, color = 'blue') \n",
        "  plt.plot(sbX_penghasilanBesar,sbY_penghasilanBesar, color = 'red') \n",
        "  plt.plot([0,x_penghasilan,x_penghasilan],[μpenghasilanKecil,μpenghasilanKecil,0], 'g--') \n",
        "  plt.plot([0,x_penghasilan,x_penghasilan],[μpenghasilanBesar,μpenghasilanBesar,0], 'g--') \n",
        "  \n",
        "  plt.plot([x_penghasilan], [μpenghasilanKecil], 'go')\n",
        "  plt.plot([x_penghasilan], [μpenghasilanBesar], 'go')\n",
        "  plt.axis([0, b_penghasilanBesar + 1, -0.01 ,1.01])\n",
        "  plt.xlabel('x')\n",
        "  plt.ylabel('μ(x)')\n",
        "  plt.suptitle('derajat keanggotaan variabel penghasilan orang tua Himpunan BESAR :')\n",
        "  \n",
        "  plt.show"
      ],
      "metadata": {
        "id": "hESBDzxkji8n"
      },
      "execution_count": 350,
      "outputs": []
    },
    {
      "cell_type": "code",
      "source": [
        "μPenghasilanBesar()"
      ],
      "metadata": {
        "colab": {
          "base_uri": "https://localhost:8080/",
          "height": 343
        },
        "id": "0v8hF8jkobfp",
        "outputId": "d7fd2e3d-1ca7-461d-8bd6-8be5be3e6375"
      },
      "execution_count": 351,
      "outputs": [
        {
          "output_type": "stream",
          "name": "stdout",
          "text": [
            "Untuk penghasilan orang tua sebesar 9.8 juta rupiah nilai μpenghasilanBesar adalah : 0.9600000000000002\n",
            "Untuk penghasilan orang tua sebesar 9.8 juta rupiah nilai μpenghasilanKecil adalah : 0\n"
          ]
        },
        {
          "output_type": "display_data",
          "data": {
            "text/plain": [
              "<Figure size 432x288 with 1 Axes>"
            ],
            "image/png": "[encoded data removed]"
          },
          "metadata": {
            "needs_background": "light"
          }
        }
      ]
    }
  ]
}