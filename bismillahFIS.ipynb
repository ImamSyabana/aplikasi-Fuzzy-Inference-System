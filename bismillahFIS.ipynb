{
  "nbformat": 4,
  "nbformat_minor": 0,
  "metadata": {
    "colab": {
      "provenance": [],
      "collapsed_sections": [],
      "authorship_tag": "ABX9TyN8j8kNNm8IxIdSQhIMzjD4",
      "include_colab_link": true
    },
    "kernelspec": {
      "name": "python3",
      "display_name": "Python 3"
    },
    "language_info": {
      "name": "python"
    }
  },
  "cells": [
    {
      "cell_type": "markdown",
      "metadata": {
        "id": "view-in-github",
        "colab_type": "text"
      },
      "source": [
        "<a href=\"https://colab.research.google.com/github/imambritish/aplikasi-Fuzzy-Inference-System/blob/main/bismillahFIS.ipynb\" target=\"_parent\"><img src=\"https://colab.research.google.com/assets/colab-badge.svg\" alt=\"Open In Colab\"/></a>"
      ]
    },
    {
      "cell_type": "markdown",
      "source": [
        "### PENERAPAN FUZZY INFERENCE SYSTEM METODE MAMDANI UNTUK PENENTUAN BESARAN PERSENTASE BEASISWA"
      ],
      "metadata": {
        "id": "bfEKuwnOH97x"
      }
    },
    {
      "cell_type": "markdown",
      "source": [
        "**contoh kasus**\n",
        "\n",
        "penerapan algoritma Fuzzy Inference System dengan metode MAMDANI untuk penentuan besaran persentase beasiswa mahasiswa baru, sehingga beasiswa \n",
        "diterima oleh calon mahasiswa tersebut tepat dan objektif."
      ],
      "metadata": {
        "id": "lAj6GYkQK_x-"
      }
    },
    {
      "cell_type": "markdown",
      "source": [
        "**variabel**\n",
        "\n",
        "variabel input : Nilai Test Tertulis, Hasil dari Wawancara, Nilai Raport, Penghasilan Orang Tua, Rekening Listrik sebulan terakhir\n",
        "\n",
        "variabel output : Besarnya Beasiswa"
      ],
      "metadata": {
        "id": "WRjMRRxILpho"
      }
    },
    {
      "cell_type": "markdown",
      "source": [
        "**himpunan fuzzy**\n",
        "\n",
        "himpunan nilai test tulis : RENDAH, TINGGI\n",
        "\n",
        "himpunan rekening penggunaan listrik : IRIT, BOROS  \n",
        "\n",
        "himpunan besaran penghasilan orangtua : KECIL, BESAR\n",
        "\n",
        "himpunan besar beasiswa : RENDAH, SEDANG, TINGGI\n"
      ],
      "metadata": {
        "id": "nyPHMqXjPqgY"
      }
    },
    {
      "cell_type": "markdown",
      "source": [
        "**semesta pembicaraan**\n",
        "\n",
        "semesta nilai test = [0, 100]\n",
        "\n",
        "semesta penggunaan listrik(kWh) = [0 , +∞]\n",
        "\n",
        "semesta penghasilan(rupiah) = [0 , +∞ ]\n",
        "\n",
        "semesta besar beasiswa(persen) : [0 100]"
      ],
      "metadata": {
        "id": "CLePTkzzhVWB"
      }
    },
    {
      "cell_type": "markdown",
      "source": [
        "**domain**\n",
        "\n",
        "domain nilai test tulis : RENDAH = [40, 79] , TINGGI = [70, 90]\n",
        "\n",
        "domain penggunaan listrik : IRIT [62 128], BOROS [108 180]\n",
        "\n",
        "domain penghasilan : KECIL <= 2000000, BESAR >= 5000000\n",
        "\n",
        "domain besar beasiswa(persen) : RENDAH <= 45,  30 <= SEDANG <= 70, TINGGI >= 60 "
      ],
      "metadata": {
        "id": "8I2zIwoCiRxM"
      }
    },
    {
      "cell_type": "markdown",
      "source": [
        "besaran golongan beasiswa mana yang akan didapat jika murid memiliki test tulis dengan nilai sekian, penghasilan orang tua dengan jumlah sekian, dan penggunaan listrik sekian kWh. "
      ],
      "metadata": {
        "id": "ywnpXq1Rpe4V"
      }
    },
    {
      "cell_type": "markdown",
      "source": [
        "## FUZZIFIKASI"
      ],
      "metadata": {
        "id": "ysxywVm-qQLn"
      }
    },
    {
      "cell_type": "code",
      "execution_count": null,
      "metadata": {
        "id": "h_iSaw67H5CM"
      },
      "outputs": [],
      "source": [
        "import matplotlib.pyplot as plt\n",
        "import numpy as np\n",
        "import math"
      ]
    },
    {
      "cell_type": "markdown",
      "source": [
        "KURVA UNTUK VARIABEL NILAI TEST TULIS"
      ],
      "metadata": {
        "id": "Xvol6g1OvzTT"
      }
    },
    {
      "cell_type": "code",
      "source": [
        "def nilaiRendah():\n",
        "  global x_nilai\n",
        "  global a_nilaiRendah\n",
        "  global c_nilaiRendah \n",
        "  global b_nilaiRendah\n",
        "  global sbX_nilaiRendah\n",
        "  global sbY_nilaiRendah\n",
        "\n",
        "\n",
        "  print(\"Masukkan nilai test tulis dari siswa : \")\n",
        "  x_nilai = int(input())\n",
        "  print(\"Domain variabel fuzzy nilai test tulis di himpunan nilai test RENDAH (batas bawah) : \")\n",
        "  a_nilaiRendah = int(input())\n",
        "  print(\"Domain variabel fuzzy nilai test tulis di himpunan nilai test RENDAH (batas atas) : \")\n",
        "  c_nilaiRendah = int(input()) \n",
        "  b_nilaiRendah = (a_nilaiRendah + c_nilaiRendah) / 2\n",
        "\n",
        "  sbX_nilaiRendah = []\n",
        "  sbY_nilaiRendah = []\n",
        "\n",
        "  for i in range(a_nilaiRendah +1,c_nilaiRendah):\n",
        "\n",
        "    sbX_nilaiRendah.append(i)\n",
        "    if  i < (b_nilaiRendah):\n",
        "      koordinatY = 1 - 2* pow(((i - a_nilaiRendah) / (c_nilaiRendah - a_nilaiRendah)),2)\n",
        "      sbY_nilaiRendah.append(koordinatY)\n",
        "\n",
        "    elif i > (b_nilaiRendah): \n",
        "      koordinatY = 2* pow(((c_nilaiRendah-i)/(c_nilaiRendah-a_nilaiRendah) ),2)\n",
        "      sbY_nilaiRendah.append(koordinatY)\n",
        "\n",
        "    elif i == (b_nilaiRendah):\n",
        "      koordinatY = 0.5\n",
        "      sbY_nilaiRendah.append(koordinatY)\n",
        "    i += 1\n",
        "\n",
        "  sbX_nilaiRendah.insert(0, a_nilaiRendah)\n",
        "  sbX_nilaiRendah.insert(0, 0)\n",
        "  sbX_nilaiRendah.append(c_nilaiRendah)\n",
        "  sbX_nilaiRendah.append(100)\n",
        "\n",
        "  sbY_nilaiRendah.insert(0, 1)\n",
        "  sbY_nilaiRendah.insert(0, 1)\n",
        "  sbY_nilaiRendah.append(0)\n",
        "  sbY_nilaiRendah.append(0)\n",
        "\n",
        "  plt.plot(sbX_nilaiRendah,sbY_nilaiRendah, color = 'blue') \n",
        "  plt.axis([0, 100, -0.01 ,1.01])\n",
        "  plt.xlabel('x')\n",
        "  plt.ylabel('μ(x)')\n",
        "  plt.suptitle('kurva Variabel nilai tes RENDAH')\n",
        "  plt.show\n"
      ],
      "metadata": {
        "id": "afLNEsSsrx61"
      },
      "execution_count": null,
      "outputs": []
    },
    {
      "cell_type": "code",
      "source": [
        "nilaiRendah()"
      ],
      "metadata": {
        "id": "KOl5Yq717mn3",
        "colab": {
          "base_uri": "https://localhost:8080/",
          "height": 412
        },
        "outputId": "fb46b9d3-0e33-4be4-c4ca-cfa6cd71ece3"
      },
      "execution_count": null,
      "outputs": [
        {
          "name": "stdout",
          "output_type": "stream",
          "text": [
            "Masukkan nilai test tulis dari siswa : \n",
            "76\n",
            "Domain variabel fuzzy nilai test tulis di himpunan nilai test RENDAH (batas bawah) : \n",
            "40\n",
            "Domain variabel fuzzy nilai test tulis di himpunan nilai test RENDAH (batas atas) : \n",
            "79\n"
          ]
        },
        {
          "output_type": "display_data",
          "data": {
            "text/plain": [
              "<Figure size 432x288 with 1 Axes>"
            ],
            "image/png": "[encoded data removed]"
          },
          "metadata": {
            "needs_background": "light"
          }
        }
      ]
    },
    {
      "cell_type": "code",
      "source": [
        "def nilaiTinggi():\n",
        "  global x_nilai\n",
        "  global a_nilaiTinggi\n",
        "  global c_nilaiTinggi\n",
        "  global b_nilaiTinggi\n",
        "  global sbX_nilaiTinggi\n",
        "  global sbY_nilaiTinggi\n",
        "\n",
        "  print(\"Nilai test tulis dari siswa yang sudah di inputkan : {nilaiTes}\".format(nilaiTes = x_nilai))\n",
        "  \n",
        "  print(\"Domain variabel fuzzy nilai test tulis di himpunan nilai test TINGGI (batas bawah) : \")\n",
        "  a_nilaiTinggi = int(input())\n",
        "  print(\"Domain variabel fuzzy nilai test tulis di himpunan nilai test TINGGI (batas atas) :\")\n",
        "  c_nilaiTinggi = int(input()) \n",
        "  b_nilaiTinggi = (a_nilaiTinggi + c_nilaiTinggi) / 2\n",
        "\n",
        "  sbX_nilaiTinggi = []\n",
        "  sbY_nilaiTinggi = []\n",
        "\n",
        "  for i in range(a_nilaiTinggi +1,c_nilaiTinggi):\n",
        "\n",
        "    sbX_nilaiTinggi.append(i)\n",
        "    if  i < (b_nilaiTinggi):\n",
        "      koordinatY = 2* pow(((i- a_nilaiTinggi)/(c_nilaiTinggi - a_nilaiTinggi) ),2)\n",
        "      sbY_nilaiTinggi.append(koordinatY)\n",
        "\n",
        "    elif i > (b_nilaiTinggi): \n",
        "      koordinatY = 1 - 2* pow(((c_nilaiTinggi - i) / (c_nilaiTinggi - a_nilaiTinggi)),2)\n",
        "      sbY_nilaiTinggi.append(koordinatY)\n",
        "\n",
        "    elif i == (b_nilaiTinggi):\n",
        "      koordinatY = 0.5\n",
        "      sbY_nilaiTinggi.append(koordinatY)\n",
        "    i += 1\n",
        "    \n",
        "  sbX_nilaiTinggi.insert(0, a_nilaiTinggi)\n",
        "  sbX_nilaiTinggi.insert(0, 0)\n",
        "  sbX_nilaiTinggi.append(c_nilaiTinggi)\n",
        "  sbX_nilaiTinggi.append(100)\n",
        "\n",
        "  sbY_nilaiTinggi.insert(0, 0)\n",
        "  sbY_nilaiTinggi.insert(0, 0)\n",
        "  sbY_nilaiTinggi.append(1)\n",
        "  sbY_nilaiTinggi.append(1)\n",
        "  \n",
        "\n",
        "  plt.plot(sbX_nilaiTinggi,sbY_nilaiTinggi, color = 'red') \n",
        "  plt.axis([0, 100, -0.01 ,1.01])\n",
        "  plt.xlabel('x')\n",
        "  plt.ylabel('μ(x)')\n",
        "  plt.suptitle('kurva Variabel nilai tes TINGGI')\n",
        "  plt.show\n"
      ],
      "metadata": {
        "id": "HfBxEhvoKW5I"
      },
      "execution_count": null,
      "outputs": []
    },
    {
      "cell_type": "code",
      "source": [
        "nilaiTinggi()"
      ],
      "metadata": {
        "colab": {
          "base_uri": "https://localhost:8080/",
          "height": 395
        },
        "id": "Yh2LGZr6av0b",
        "outputId": "838a792e-53d1-4e84-cc75-c9e71d139aac"
      },
      "execution_count": null,
      "outputs": [
        {
          "name": "stdout",
          "output_type": "stream",
          "text": [
            "Nilai test tulis dari siswa yang sudah di inputkan : 76\n",
            "Domain variabel fuzzy nilai test tulis di himpunan nilai test TINGGI (batas bawah) : \n",
            "70\n",
            "Domain variabel fuzzy nilai test tulis di himpunan nilai test TINGGI (batas atas) :\n",
            "90\n"
          ]
        },
        {
          "output_type": "display_data",
          "data": {
            "text/plain": [
              "<Figure size 432x288 with 1 Axes>"
            ],
            "image/png": "[encoded data removed]"
          },
          "metadata": {
            "needs_background": "light"
          }
        }
      ]
    },
    {
      "cell_type": "markdown",
      "source": [
        "Langkah selanjutnya menentukan derajat keanggotaan untuk variabel nilai tes atau nilai tes tulis yang didapat siswa calon penerima beasiswa. "
      ],
      "metadata": {
        "id": "rGqATtwYDF_D"
      }
    },
    {
      "cell_type": "code",
      "source": [
        "def μNilaiRENDAH():\n",
        "  global μNilaiRENDAH \n",
        "\n",
        "  if x_nilai >= (c_nilaiRendah):\n",
        "    μNilaiRENDAH = 0\n",
        "\n",
        "  elif  x_nilai < (b_nilaiRendah):\n",
        "    μNilaiRENDAH = 1 - 2* pow(((x_nilai - a_nilaiRendah) / (c_nilaiRendah - a_nilaiRendah)),2)\n",
        "    \n",
        "  elif x_nilai > (b_nilaiRendah): \n",
        "    μNilaiRENDAH = 2* pow(((c_nilaiRendah-x_nilai)/(c_nilaiRendah-a_nilaiRendah) ),2)\n",
        "    \n",
        "  elif x_nilai == (b_nilaiRendah):\n",
        "    μNilaiRENDAH = 0.5\n",
        "\n",
        "  elif x_nilai <= (a_nilaiRendah):\n",
        "    μNilaiRENDAH = 1\n",
        "\n",
        "    \n",
        "  print(\"Untuk nilai tes tulis sebesar {nilaiTes} nilai μNilaiRENDAH adalah : {derajatNilaiRendah}\" \n",
        "        .format(nilaiTes = x_nilai, derajatNilaiRendah = μNilaiRENDAH))\n",
        "\n",
        "\n",
        "  plt.plot(sbX_nilaiRendah,sbY_nilaiRendah, color = 'blue') \n",
        "  plt.plot(sbX_nilaiTinggi,sbY_nilaiTinggi, color = 'red') \n",
        "  plt.plot([0,x_nilai,x_nilai],[μNilaiRENDAH,μNilaiRENDAH,0], 'g--') \n",
        "  \n",
        "  plt.plot([x_nilai], [μNilaiRENDAH], 'go')\n",
        "  plt.axis([0, 100, -0.01 ,1.01])\n",
        "  plt.xlabel('x')\n",
        "  plt.ylabel('μ(x)')\n",
        "  plt.suptitle('derajat keanggotaan variabel Nilai tes Himpunan RENDAH')\n",
        "  \n",
        "\n",
        "  plt.show"
      ],
      "metadata": {
        "id": "8UPz5gmrD-LA"
      },
      "execution_count": null,
      "outputs": []
    },
    {
      "cell_type": "code",
      "source": [
        "μNilaiRENDAH()"
      ],
      "metadata": {
        "colab": {
          "base_uri": "https://localhost:8080/",
          "height": 325
        },
        "id": "q6BtInkaMDZM",
        "outputId": "05bcec09-fc1d-4bef-9278-7a11b224af0e"
      },
      "execution_count": null,
      "outputs": [
        {
          "output_type": "stream",
          "name": "stdout",
          "text": [
            "Untuk nilai tes tulis sebesar 76 nilai μNilaiRENDAH adalah : 0.01183431952662722\n"
          ]
        },
        {
          "output_type": "display_data",
          "data": {
            "text/plain": [
              "<Figure size 432x288 with 1 Axes>"
            ],
            "image/png": "[encoded data removed]"
          },
          "metadata": {
            "needs_background": "light"
          }
        }
      ]
    },
    {
      "cell_type": "code",
      "source": [
        "def μNilaiTINGGI():\n",
        "  if x_nilai <= (a_nilaiTinggi):\n",
        "    μNilaiTINGGI = 0\n",
        "\n",
        "  elif  x_nilai < (b_nilaiTinggi):\n",
        "    μNilaiTINGGI = 2* pow(((x_nilai- a_nilaiTinggi)/(c_nilaiTinggi - a_nilaiTinggi) ),2)\n",
        "    \n",
        "\n",
        "  elif x_nilai > (b_nilaiTinggi): \n",
        "    μNilaiTINGGI = 1 - 2* pow(((c_nilaiTinggi - x_nilai) / (c_nilaiTinggi - a_nilaiTinggi)),2)\n",
        "    \n",
        "\n",
        "  elif x_nilai == (b_nilaiTinggi):\n",
        "    μNilaiTINGGI = 0.5\n",
        "\n",
        "  elif x_nilai >= (c_nilaiTinggi):\n",
        "    μNilaiTINGGI = 1\n",
        "    \n",
        "    \n",
        "  print(\"Untuk nilai tes tulis sebesar {nilaiTest} nilai μNilaiTINGGI adalah : {derajatNilaiTINGGI}\" \n",
        "        .format(nilaiTest = x_nilai, derajatNilaiTINGGI = μNilaiTINGGI))\n",
        "\n",
        "  print(\"Untuk nilai tes tulis sebesar {nilaiTes} nilai μNilaiRENDAH adalah : {derajatNilaiRendah}\" \n",
        "        .format(nilaiTes = x_nilai, derajatNilaiRendah = μNilaiRENDAH))\n",
        "\n",
        "  plt.plot(sbX_nilaiRendah,sbY_nilaiRendah, color = 'blue') \n",
        "  plt.plot(sbX_nilaiTinggi,sbY_nilaiTinggi, color = 'red') \n",
        "  plt.plot([0,x_nilai,x_nilai],[μNilaiRENDAH,μNilaiRENDAH,0], 'g--')\n",
        "  plt.plot([0,x_nilai,x_nilai],[μNilaiTINGGI,μNilaiTINGGI,0], 'g--') \n",
        "  plt.plot([x_nilai], [μNilaiRENDAH], 'go')\n",
        "  plt.plot([x_nilai], [μNilaiTINGGI], 'go')\n",
        "  plt.axis([0, 100, -0.01 ,1.01])\n",
        "  plt.xlabel('x')\n",
        "  plt.ylabel('μ(x)')\n",
        "  plt.suptitle('derajat keanggotaan variabel Nilai tes himpunan TINGGI')\n",
        "  \n",
        "\n",
        "  plt.show"
      ],
      "metadata": {
        "id": "kxUoE1H9MzC1"
      },
      "execution_count": null,
      "outputs": []
    },
    {
      "cell_type": "code",
      "source": [
        "μNilaiTINGGI()"
      ],
      "metadata": {
        "colab": {
          "base_uri": "https://localhost:8080/",
          "height": 343
        },
        "id": "m09EeyiasfBh",
        "outputId": "18160db4-d253-4633-ce33-8042382e1343"
      },
      "execution_count": null,
      "outputs": [
        {
          "output_type": "stream",
          "name": "stdout",
          "text": [
            "Untuk nilai tes tulis sebesar 76 nilai μNilaiTINGGI adalah : 0.18\n",
            "Untuk nilai tes tulis sebesar 76 nilai μNilaiRENDAH adalah : 0.01183431952662722\n"
          ]
        },
        {
          "output_type": "display_data",
          "data": {
            "text/plain": [
              "<Figure size 432x288 with 1 Axes>"
            ],
            "image/png": "[encoded data removed]"
          },
          "metadata": {
            "needs_background": "light"
          }
        }
      ]
    },
    {
      "cell_type": "markdown",
      "source": [
        "KURVA UNTUK VARIABEL PENGGUNAAN LISTRIK"
      ],
      "metadata": {
        "id": "Aglwaz8jzNxr"
      }
    },
    {
      "cell_type": "code",
      "source": [
        "def listrikIRIT():\n",
        "  global x_listrik\n",
        "  global a_listrikIrit\n",
        "  global c_listrikIrit\n",
        "  global b_listrikIrit\n",
        "  global sbX_listrikIrit\n",
        "  global sbY_listrikIrit\n",
        "\n",
        "\n",
        "  print(\"Masukkan besar kWh penggunaan listrik rumah siswa : \")\n",
        "  x_listrik = int(input())\n",
        "  print(\"Domain variabel fuzzy penggunaan listrik di himpunan listrik IRIT (batas bawah) : \")\n",
        "  a_listrikIrit = int(input())\n",
        "  print(\"Domain variabel fuzzy penggunaan listrik di himpunan listrik IRIT (batas bawah) : \")\n",
        "  c_listrikIrit = int(input()) \n",
        "  b_listrikIrit = (a_listrikIrit + c_listrikIrit) / 2\n",
        "\n",
        "  sbX_listrikIrit = []\n",
        "  sbY_listrikIrit = []\n",
        "\n",
        "  for i in range(a_listrikIrit +1,c_listrikIrit):\n",
        "\n",
        "    sbX_listrikIrit.append(i)\n",
        "    if  i < (b_listrikIrit):\n",
        "      koordinatY = 1 - 2* pow(((i - a_listrikIrit) / (c_listrikIrit - a_listrikIrit)),2)\n",
        "      sbY_listrikIrit.append(koordinatY)\n",
        "\n",
        "    elif i > (b_listrikIrit): \n",
        "      koordinatY = 2* pow(((c_listrikIrit-i)/(c_listrikIrit-a_listrikIrit) ),2)\n",
        "      sbY_listrikIrit.append(koordinatY)\n",
        "\n",
        "    elif i == (b_listrikIrit):\n",
        "      koordinatY = 0.5\n",
        "      sbY_listrikIrit.append(koordinatY)\n",
        "    i += 1\n",
        "\n",
        "  sbX_listrikIrit.insert(0, a_listrikIrit)\n",
        "  sbX_listrikIrit.insert(0, 0)\n",
        "  sbX_listrikIrit.append(c_listrikIrit)\n",
        "  sbX_listrikIrit.append(c_listrikIrit + 200)\n",
        "\n",
        "  sbY_listrikIrit.insert(0, 1)\n",
        "  sbY_listrikIrit.insert(0, 1)\n",
        "  sbY_listrikIrit.append(0)\n",
        "  sbY_listrikIrit.append(0)\n",
        "\n",
        "  plt.plot(sbX_listrikIrit,sbY_listrikIrit, color = 'blue') \n",
        "  plt.axis([0, c_listrikIrit + 10, -0.01 ,1.01])\n",
        "  plt.xlabel('x')\n",
        "  plt.ylabel('μ(x)')\n",
        "  plt.suptitle('kurva Variabel listrik penggunaan IRIT')\n",
        "  plt.show\n"
      ],
      "metadata": {
        "id": "AcqxvWN5KH21"
      },
      "execution_count": null,
      "outputs": []
    },
    {
      "cell_type": "code",
      "source": [
        "listrikIRIT()"
      ],
      "metadata": {
        "colab": {
          "base_uri": "https://localhost:8080/",
          "height": 412
        },
        "id": "1g_u6tnUOD5F",
        "outputId": "ca631797-0777-4583-83f9-c25d578207b4"
      },
      "execution_count": null,
      "outputs": [
        {
          "name": "stdout",
          "output_type": "stream",
          "text": [
            "Masukkan besar kWh penggunaan listrik rumah siswa : \n",
            "160\n",
            "Domain variabel fuzzy penggunaan listrik di himpunan listrik IRIT (batas bawah) : \n",
            "62\n",
            "Domain variabel fuzzy penggunaan listrik di himpunan listrik IRIT (batas bawah) : \n",
            "128\n"
          ]
        },
        {
          "output_type": "display_data",
          "data": {
            "text/plain": [
              "<Figure size 432x288 with 1 Axes>"
            ],
            "image/png": "[encoded data removed]"
          },
          "metadata": {
            "needs_background": "light"
          }
        }
      ]
    },
    {
      "cell_type": "code",
      "source": [
        "def listrikBOROS():\n",
        "  global x_listrik\n",
        "  global a_listrikBoros\n",
        "  global c_listrikBoros\n",
        "  global b_listrikBoros\n",
        "  global sbX_listrikBoros\n",
        "  global sbY_listrikBoros\n",
        "\n",
        "  print(\"jumlah kWh penggunaan listrik siswa yang sudah di inputkan : {listrik}\".format(listrik = x_listrik))\n",
        "  \n",
        "  print(\"Domain variabel fuzzy penggunaan listrik di himpunan listrik BOROS (batas bawah) : \")\n",
        "  a_listrikBoros = int(input())\n",
        "  print(\"Domain variabel fuzzy penggunaan listrik di himpunan listrik BOROS (batas atas) : \")\n",
        "  c_listrikBoros = int(input()) \n",
        "  b_listrikBoros = (a_listrikBoros + c_listrikBoros) / 2\n",
        "\n",
        "  sbX_listrikBoros = []\n",
        "  sbY_listrikBoros = []\n",
        "\n",
        "  for i in range(a_listrikBoros +1,c_listrikBoros):\n",
        "\n",
        "    sbX_listrikBoros.append(i)\n",
        "    if  i < (b_listrikBoros):\n",
        "      koordinatY = 2* pow(((i- a_listrikBoros)/(c_listrikBoros - a_listrikBoros) ),2)\n",
        "      sbY_listrikBoros.append(koordinatY)\n",
        "\n",
        "    elif i > (b_listrikBoros): \n",
        "      koordinatY = 1 - 2* pow(((c_listrikBoros - i) / (c_listrikBoros- a_listrikBoros)),2)\n",
        "      sbY_listrikBoros.append(koordinatY)\n",
        "\n",
        "    elif i == (b_listrikBoros):\n",
        "      koordinatY = 0.5\n",
        "      sbY_listrikBoros.append(koordinatY)\n",
        "    i += 1\n",
        "\n",
        "  sbX_listrikBoros.insert(0, a_listrikBoros)\n",
        "  sbX_listrikBoros.insert(0, 0)\n",
        "  sbX_listrikBoros.append(c_listrikBoros)\n",
        "  sbX_listrikBoros.append(c_listrikBoros + 30)\n",
        "\n",
        "  sbY_listrikBoros.insert(0, 0)\n",
        "  sbY_listrikBoros.insert(0, 0)\n",
        "  sbY_listrikBoros.append(1)\n",
        "  sbY_listrikBoros.append(1)\n",
        "  \n",
        "\n",
        "  plt.plot(sbX_listrikBoros,sbY_listrikBoros, color = 'red') \n",
        "  plt.axis([0, c_listrikBoros + 30, -0.01 ,1.01])\n",
        "  plt.xlabel('x')\n",
        "  plt.ylabel('μ(x)')\n",
        "  plt.suptitle('kurva Variabel listrik penggunaan BOROS')\n",
        "  plt.show\n"
      ],
      "metadata": {
        "id": "CsawJn25zDE8"
      },
      "execution_count": null,
      "outputs": []
    },
    {
      "cell_type": "code",
      "source": [
        "listrikBOROS()"
      ],
      "metadata": {
        "colab": {
          "base_uri": "https://localhost:8080/",
          "height": 395
        },
        "id": "dhJZOT0C_4aw",
        "outputId": "896e689e-9f33-4fe7-a456-40bde3d1a7a2"
      },
      "execution_count": null,
      "outputs": [
        {
          "name": "stdout",
          "output_type": "stream",
          "text": [
            "jumlah kWh penggunaan listrik siswa yang sudah di inputkan : 160\n",
            "Domain variabel fuzzy penggunaan listrik di himpunan listrik BOROS (batas bawah) : \n",
            "108\n",
            "Domain variabel fuzzy penggunaan listrik di himpunan listrik BOROS (batas atas) : \n",
            "180\n"
          ]
        },
        {
          "output_type": "display_data",
          "data": {
            "text/plain": [
              "<Figure size 432x288 with 1 Axes>"
            ],
            "image/png": "[encoded data removed]"
          },
          "metadata": {
            "needs_background": "light"
          }
        }
      ]
    },
    {
      "cell_type": "markdown",
      "source": [
        "Langkah selanjutnya menentukan derajat keanggotaan untuk variabel data rekening listrik sebulan terakhir calon penerima beasiswa. "
      ],
      "metadata": {
        "id": "9pIXouWkTTV1"
      }
    },
    {
      "cell_type": "code",
      "source": [
        "def μListrikIRIT():\n",
        "  global μListrikIRIT \n",
        "\n",
        "  if x_listrik >= (c_listrikIrit):\n",
        "    μListrikIRIT = 0\n",
        "\n",
        "  elif  x_listrik < (b_listrikIrit):\n",
        "    μListrikIRIT = 1 - 2* pow(((x_listrik - a_listrikIrit) / (c_listrikIrit - a_listrikIrit)),2)\n",
        "    \n",
        "  elif x_listrik > (b_listrikIrit): \n",
        "    μListrikIRIT = 2* pow(((c_listrikIrit-x_listrik)/(c_listrikIrit - a_listrikIrit) ),2)\n",
        "    \n",
        "  elif x_listrik == (b_listrikIrit):\n",
        "    μListrikIRIT = 0.5\n",
        "\n",
        "  elif x_listrik <= (a_listrikIrit):\n",
        "    μListrikIRIT = 1\n",
        "\n",
        "    \n",
        "  print(\"Untuk penggunaan listrik sebesar {kWh} kWh nilai μListrikIRIT adalah : {derajatListrikIrit}\" \n",
        "        .format(kWh = x_listrik, derajatListrikIrit = μListrikIRIT))\n",
        "\n",
        "\n",
        "  plt.plot(sbX_listrikIrit,sbY_listrikIrit, color = 'blue') \n",
        "  plt.plot(sbX_listrikBoros,sbY_listrikBoros, color = 'red') \n",
        "  plt.plot([0,x_listrik,x_listrik],[μListrikIRIT,μListrikIRIT,0], 'g--') \n",
        "  \n",
        "  plt.plot([x_listrik], [μListrikIRIT], 'go')\n",
        "  plt.axis([0, c_listrikBoros + 30, -0.01 ,1.01])\n",
        "  plt.xlabel('x')\n",
        "  plt.ylabel('μ(x)')\n",
        "  plt.suptitle('derajat keanggotaan variabel penggunaan listrik Himpunan IRIT')\n",
        "  \n",
        "\n",
        "  plt.show"
      ],
      "metadata": {
        "id": "6YbFASt0_66K"
      },
      "execution_count": null,
      "outputs": []
    },
    {
      "cell_type": "code",
      "source": [
        "μListrikIRIT()"
      ],
      "metadata": {
        "colab": {
          "base_uri": "https://localhost:8080/",
          "height": 325
        },
        "id": "tAvORK5vVYfe",
        "outputId": "498a6ecb-56f2-46a1-f915-a3665a818ac2"
      },
      "execution_count": null,
      "outputs": [
        {
          "output_type": "stream",
          "name": "stdout",
          "text": [
            "Untuk penggunaan listrik sebesar 160 kWh nilai μListrikIRIT adalah : 0\n"
          ]
        },
        {
          "output_type": "display_data",
          "data": {
            "text/plain": [
              "<Figure size 432x288 with 1 Axes>"
            ],
            "image/png": "[encoded data removed]"
          },
          "metadata": {
            "needs_background": "light"
          }
        }
      ]
    },
    {
      "cell_type": "code",
      "source": [
        "def μListrikBOROS():\n",
        "  if x_listrik <= (a_listrikBoros):\n",
        "    μListrikBOROS = 0\n",
        "\n",
        "  elif  x_listrik < (b_listrikBoros):\n",
        "    μListrikBOROS = 2* pow(((x_listrik- a_listrikBoros)/(c_listrikBoros - a_listrikBoros) ),2)\n",
        "    \n",
        "\n",
        "  elif x_listrik > (b_listrikBoros): \n",
        "    μListrikBOROS = 1 - 2* pow(((c_listrikBoros- x_listrik) / (c_listrikBoros - a_listrikBoros)),2)\n",
        "    \n",
        "\n",
        "  elif x_listrik == (b_listrikBoros):\n",
        "    μListrikBOROS = 0.5\n",
        "\n",
        "  elif x_listrik >= (c_listrikBoros):\n",
        "    μListrikBOROS = 1\n",
        "    \n",
        "    \n",
        "  print(\"Untuk penggunaan listrik sebesar {kWh} nilai μListrikIRIT adalah : {derajatListrikIrit}\" \n",
        "        .format(kWh = x_listrik, derajatListrikIrit = μListrikIRIT))\n",
        "  \n",
        "  print(\"Untuk penggunaan listrik sebesar {kWh} nilai μListrikBOROS adalah : {derajatListrikBOROS}\" \n",
        "        .format(kWh = x_listrik, derajatListrikBOROS = μListrikBOROS))\n",
        "\n",
        "\n",
        "  plt.plot(sbX_listrikIrit,sbY_listrikIrit, color = 'blue') \n",
        "  plt.plot(sbX_listrikBoros,sbY_listrikBoros, color = 'red') \n",
        "  plt.plot([0,x_listrik,x_listrik],[μListrikIRIT,μListrikIRIT,0], 'g--')\n",
        "  plt.plot([0,x_listrik,x_listrik],[μListrikBOROS,μListrikBOROS,0], 'g--') \n",
        "  plt.plot([x_listrik], [μListrikIRIT], 'go')\n",
        "  plt.plot([x_listrik], [μListrikBOROS], 'go')\n",
        "  plt.axis([0, c_listrikBoros + 30, -0.01 ,1.01])\n",
        "  plt.xlabel('x')\n",
        "  plt.ylabel('μ(x)')\n",
        "  plt.suptitle('derajat keanggotaan variabel penggunaan listrik Himpunan BOROS')\n",
        "  \n",
        "\n",
        "  plt.show"
      ],
      "metadata": {
        "id": "x3PdgL0JVasy"
      },
      "execution_count": null,
      "outputs": []
    },
    {
      "cell_type": "code",
      "source": [
        "μListrikBOROS()"
      ],
      "metadata": {
        "colab": {
          "base_uri": "https://localhost:8080/",
          "height": 343
        },
        "id": "a-lLdhacYx4F",
        "outputId": "707b2538-a764-4de8-a7de-c91ef2eb3210"
      },
      "execution_count": null,
      "outputs": [
        {
          "output_type": "stream",
          "name": "stdout",
          "text": [
            "Untuk penggunaan listrik sebesar 160 nilai μListrikIRIT adalah : 0\n",
            "Untuk penggunaan listrik sebesar 160 nilai μListrikBOROS adalah : 0.845679012345679\n"
          ]
        },
        {
          "output_type": "display_data",
          "data": {
            "text/plain": [
              "<Figure size 432x288 with 1 Axes>"
            ],
            "image/png": "[encoded data removed]"
          },
          "metadata": {
            "needs_background": "light"
          }
        }
      ]
    }
  ]
}